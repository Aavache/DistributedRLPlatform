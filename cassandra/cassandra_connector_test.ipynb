{
 "cells": [
  {
   "cell_type": "code",
   "execution_count": 4,
   "metadata": {},
   "outputs": [],
   "source": [
    "from cassandra.cluster import Cluster"
   ]
  },
  {
   "cell_type": "code",
   "execution_count": 5,
   "metadata": {},
   "outputs": [],
   "source": [
    "cluster = Cluster(\n",
    "    ['3.34.189.211'],\n",
    "    port=9042)\n",
    "session = cluster.connect('test')"
   ]
  },
  {
   "cell_type": "code",
   "execution_count": 6,
   "metadata": {},
   "outputs": [
    {
     "data": {
      "text/plain": [
       "<cassandra.cluster.ResultSet at 0x28b050eba88>"
      ]
     },
     "execution_count": 6,
     "metadata": {},
     "output_type": "execute_result"
    }
   ],
   "source": [
    "#session.set_keyspace('users')\n",
    "# or you can do this instead\n",
    "session.execute('USE test')"
   ]
  },
  {
   "cell_type": "code",
   "execution_count": 20,
   "metadata": {},
   "outputs": [
    {
     "name": "stdout",
     "output_type": "stream",
     "text": [
      "Row(user_id=1040, age=26, gender='Male', occupation='Student', zip='46460')\n"
     ]
    },
    {
     "name": "stderr",
     "output_type": "stream",
     "text": [
      "WARNING:cassandra.connection:Heartbeat failed for connection (2796104332232) to 3.34.189.211:9042\n",
      "WARNING:cassandra.cluster:Host 3.34.189.211:9042 has been marked down\n",
      "WARNING:cassandra.cluster:[control connection] Error connecting to 3.34.189.211:9042:\n",
      "Traceback (most recent call last):\n",
      "  File \"cassandra\\cluster.py\", line 3522, in cassandra.cluster.ControlConnection._reconnect_internal\n",
      "  File \"cassandra\\cluster.py\", line 3544, in cassandra.cluster.ControlConnection._try_connect\n",
      "  File \"cassandra\\cluster.py\", line 1620, in cassandra.cluster.Cluster.connection_factory\n",
      "  File \"cassandra\\connection.py\", line 831, in cassandra.connection.Connection.factory\n",
      "  File \"C:\\Users\\Aaron\\Anaconda3\\lib\\site-packages\\cassandra\\io\\asyncorereactor.py\", line 344, in __init__\n",
      "    self._connect_socket()\n",
      "  File \"cassandra\\connection.py\", line 898, in cassandra.connection.Connection._connect_socket\n",
      "OSError: [Errno None] Tried connecting to [('3.34.189.211', 9042)]. Last error: timed out\n",
      "WARNING:cassandra.pool:Error attempting to reconnect to 3.34.189.211:9042, scheduling retry in 1.96 seconds: [Errno None] Tried connecting to [('3.34.189.211', 9042)]. Last error: timed out\n",
      "WARNING:cassandra.pool:Error attempting to reconnect to 3.34.189.211:9042, scheduling retry in 4.6 seconds: [Errno None] Tried connecting to [('3.34.189.211', 9042)]. Last error: timed out\n",
      "WARNING:cassandra.pool:Error attempting to reconnect to 3.34.189.211:9042, scheduling retry in 8.4 seconds: [Errno None] Tried connecting to [('3.34.189.211', 9042)]. Last error: timed out\n",
      "WARNING:cassandra.pool:Error attempting to reconnect to 3.34.189.211:9042, scheduling retry in 13.76 seconds: [Errno None] Tried connecting to [('3.34.189.211', 9042)]. Last error: timed out\n"
     ]
    }
   ],
   "source": [
    "rows = session.execute('SELECT * FROM users')\n",
    "for user_row in rows:\n",
    "    print(user_row)"
   ]
  },
  {
   "cell_type": "code",
   "execution_count": 18,
   "metadata": {},
   "outputs": [
    {
     "data": {
      "text/plain": [
       "<cassandra.cluster.ResultSet at 0x28b05f8ca88>"
      ]
     },
     "execution_count": 18,
     "metadata": {},
     "output_type": "execute_result"
    }
   ],
   "source": [
    "session.execute(\n",
    "    \"\"\"\n",
    "    INSERT INTO users (user_id, age, gender, occupation, zip)\n",
    "    VALUES (%s,%s,%s,%s,%s)\n",
    "    \"\"\",(1040, 26, 'Male', 'Student', '46460'))"
   ]
  },
  {
   "cell_type": "code",
   "execution_count": 14,
   "metadata": {},
   "outputs": [
    {
     "ename": "SyntaxException",
     "evalue": "<Error from server: code=2000 [Syntax error in CQL query] message=\"line 1:0 no viable alternative at input 'DESCRIBE' ([DESCRIBE]...)\">",
     "output_type": "error",
     "traceback": [
      "\u001b[1;31m---------------------------------------------------------------------------\u001b[0m",
      "\u001b[1;31mSyntaxException\u001b[0m                           Traceback (most recent call last)",
      "\u001b[1;32m<ipython-input-14-9240710d5714>\u001b[0m in \u001b[0;36m<module>\u001b[1;34m\u001b[0m\n\u001b[1;32m----> 1\u001b[1;33m \u001b[0mprint\u001b[0m\u001b[1;33m(\u001b[0m\u001b[0msession\u001b[0m\u001b[1;33m.\u001b[0m\u001b[0mexecute\u001b[0m\u001b[1;33m(\u001b[0m\u001b[1;34m\"DESCRIBE TABLE users\"\u001b[0m\u001b[1;33m)\u001b[0m\u001b[1;33m)\u001b[0m\u001b[1;33m\u001b[0m\u001b[1;33m\u001b[0m\u001b[0m\n\u001b[0m",
      "\u001b[1;32m~\\Anaconda3\\lib\\site-packages\\cassandra\\cluster.cp37-win_amd64.pyd\u001b[0m in \u001b[0;36mcassandra.cluster.Session.execute\u001b[1;34m()\u001b[0m\n",
      "\u001b[1;32m~\\Anaconda3\\lib\\site-packages\\cassandra\\cluster.cp37-win_amd64.pyd\u001b[0m in \u001b[0;36mcassandra.cluster.ResponseFuture.result\u001b[1;34m()\u001b[0m\n",
      "\u001b[1;31mSyntaxException\u001b[0m: <Error from server: code=2000 [Syntax error in CQL query] message=\"line 1:0 no viable alternative at input 'DESCRIBE' ([DESCRIBE]...)\">"
     ]
    }
   ],
   "source": [
    "print(session.execute(\"DESCRIBE TABLE users\"))"
   ]
  },
  {
   "cell_type": "code",
   "execution_count": null,
   "metadata": {},
   "outputs": [],
   "source": []
  }
 ],
 "metadata": {
  "kernelspec": {
   "display_name": "Python 3.7.4 64-bit ('base': conda)",
   "language": "python",
   "name": "python37464bitbasecondad2c1317a7b0d4f1fa0122a64cbedd40d"
  },
  "language_info": {
   "codemirror_mode": {
    "name": "ipython",
    "version": 3
   },
   "file_extension": ".py",
   "mimetype": "text/x-python",
   "name": "python",
   "nbconvert_exporter": "python",
   "pygments_lexer": "ipython3",
   "version": "3.7.4"
  }
 },
 "nbformat": 4,
 "nbformat_minor": 2
}
